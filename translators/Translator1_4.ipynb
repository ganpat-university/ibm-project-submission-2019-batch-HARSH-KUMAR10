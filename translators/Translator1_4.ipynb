{
  "nbformat": 4,
  "nbformat_minor": 0,
  "metadata": {
    "colab": {
      "provenance": []
    },
    "kernelspec": {
      "name": "python3",
      "display_name": "Python 3"
    },
    "language_info": {
      "name": "python"
    },
    "accelerator": "GPU",
    "gpuClass": "standard"
  },
  "cells": [
    {
      "cell_type": "code",
      "execution_count": null,
      "metadata": {
        "colab": {
          "base_uri": "https://localhost:8080/"
        },
        "id": "cPob7evtuhmw",
        "outputId": "5ff9c337-c951-488f-fa7c-f5a2f500db2b"
      },
      "outputs": [
        {
          "output_type": "stream",
          "name": "stderr",
          "text": [
            "<ipython-input-45-a3b3fedea4e5>:10: FutureWarning: Passing a negative integer is deprecated in version 1.0 and will not be supported in future version. Instead, use None to not limit the column width.\n",
            "  pd.set_option('display.max_colwidth', -1)\n"
          ]
        }
      ],
      "source": [
        "# Gated Recurrent Unit - LSTM\n",
        "import tensorflow as tf\n",
        "import numpy as np\n",
        "import pandas as pd\n",
        "import re\n",
        "import string\n",
        "from string import digits\n",
        "pd.set_option('display.max_rows', 500)\n",
        "pd.set_option('display.max_columns', 500)\n",
        "pd.set_option('display.width', 1000)\n",
        "pd.set_option('display.max_colwidth', -1)"
      ]
    },
    {
      "cell_type": "code",
      "source": [
        "lines = pd.read_csv('/content/drive/MyDrive/Sem_8-G21/Datasets/gu-en.tsv',sep='\\t',names=['english_sentence', 'guj_sentence'])\n",
        "lines = lines[:1000]\n",
        "lines.head()"
      ],
      "metadata": {
        "colab": {
          "base_uri": "https://localhost:8080/",
          "height": 372
        },
        "id": "M6n_GXjnw6WX",
        "outputId": "df25f286-8502-4c6a-c1ee-cda425822b7c"
      },
      "execution_count": null,
      "outputs": [
        {
          "output_type": "execute_result",
          "data": {
            "text/plain": [
              "                                                                                                                                                                                                                                                                                   english_sentence                                                                                                                                                                   guj_sentence\n",
              "0  The Union Cabinet chaired by Prime Minister Shri Narendra Modi has approved the proposal for closure of Autonomous Bodies, namely, Rashtriya Arogya Nidhi (RAN) and Jansankhya Sthirata Kosh (JSK) and the functions are proposed to be vested in Department of Health & Family Welfare (DoHFW).  પ્રધાનમંત્રી શ્રી નરેન્દ્ર મોદીની અધ્યક્ષતામાં મંત્રીમંડળે સ્વાસ્થ્ય અને પરિવાર કલ્યાણ વિભાગ અંતર્ગત સ્વાયત્ત સંસ્થાઓને તર્કસંગત બનાવવાની મંજૂરી આપી છે.                     \n",
              "1  The rationalization of Autonomous Bodies under Department of Health & Family Welfare will involve inter-ministerial consultations and review of existing bye laws of these bodies.                                                                                                                આ સંસ્થાઓમાં રાષ્ટ્રીય આરોગ્ય નિધિ (આરએએન) અને જનસંખ્યા સ્થિરતા કોષ (જેએસકે) સામેલ છે.                                                                                       \n",
              "2  The time frame for implementation is one year,                                                                                                                                                                                                                                                    તેનાં કામકાજને સ્વાસ્થ્ય અને પરિવાર કલ્યાણ વિભાગ અંતર્ગત રાખવાનો પ્રસ્તાવ પણ છે.                                                                                             \n",
              "3  Rashtriya Arogya Nidhi (RAN) was set up as a registered society to provide financial medical assistance to poor patients receiving treatment in designated central government hospitals.                                                                                                          રાષ્ટ્રીય આરોગ્ય નિધિની રચના એક નોંધાયેલી સોસાયટી સ્વરૂપે કરવામાં આવી હતી, જેથી કેન્દ્રીય સરકારી હોસ્પિટલોમાં સારવાર કરાવતાં ગરીબ દર્દીઓને નાણાકીય ચિકિત્સા સહાયતા આપી શકાશે.\n",
              "4  An advance is placed with the Medical Superintendents of such hospitals who then provide assistance on a case to case basis.                                                                                                                                                                      આ હોસ્પિટલનાં તબીબી નિરીક્ષકોને આગોતરૂ ભંડોળ આપવામાં આવશે, જે દરેક કેસને જોઈને સહાયતા પ્રદાન કરશે.                                                                           "
            ],
            "text/html": [
              "\n",
              "  <div id=\"df-f2cf21bf-9cb5-4366-8647-640992e78ab7\">\n",
              "    <div class=\"colab-df-container\">\n",
              "      <div>\n",
              "<style scoped>\n",
              "    .dataframe tbody tr th:only-of-type {\n",
              "        vertical-align: middle;\n",
              "    }\n",
              "\n",
              "    .dataframe tbody tr th {\n",
              "        vertical-align: top;\n",
              "    }\n",
              "\n",
              "    .dataframe thead th {\n",
              "        text-align: right;\n",
              "    }\n",
              "</style>\n",
              "<table border=\"1\" class=\"dataframe\">\n",
              "  <thead>\n",
              "    <tr style=\"text-align: right;\">\n",
              "      <th></th>\n",
              "      <th>english_sentence</th>\n",
              "      <th>guj_sentence</th>\n",
              "    </tr>\n",
              "  </thead>\n",
              "  <tbody>\n",
              "    <tr>\n",
              "      <th>0</th>\n",
              "      <td>The Union Cabinet chaired by Prime Minister Shri Narendra Modi has approved the proposal for closure of Autonomous Bodies, namely, Rashtriya Arogya Nidhi (RAN) and Jansankhya Sthirata Kosh (JSK) and the functions are proposed to be vested in Department of Health &amp; Family Welfare (DoHFW).</td>\n",
              "      <td>પ્રધાનમંત્રી શ્રી નરેન્દ્ર મોદીની અધ્યક્ષતામાં મંત્રીમંડળે સ્વાસ્થ્ય અને પરિવાર કલ્યાણ વિભાગ અંતર્ગત સ્વાયત્ત સંસ્થાઓને તર્કસંગત બનાવવાની મંજૂરી આપી છે.</td>\n",
              "    </tr>\n",
              "    <tr>\n",
              "      <th>1</th>\n",
              "      <td>The rationalization of Autonomous Bodies under Department of Health &amp; Family Welfare will involve inter-ministerial consultations and review of existing bye laws of these bodies.</td>\n",
              "      <td>આ સંસ્થાઓમાં રાષ્ટ્રીય આરોગ્ય નિધિ (આરએએન) અને જનસંખ્યા સ્થિરતા કોષ (જેએસકે) સામેલ છે.</td>\n",
              "    </tr>\n",
              "    <tr>\n",
              "      <th>2</th>\n",
              "      <td>The time frame for implementation is one year,</td>\n",
              "      <td>તેનાં કામકાજને સ્વાસ્થ્ય અને પરિવાર કલ્યાણ વિભાગ અંતર્ગત રાખવાનો પ્રસ્તાવ પણ છે.</td>\n",
              "    </tr>\n",
              "    <tr>\n",
              "      <th>3</th>\n",
              "      <td>Rashtriya Arogya Nidhi (RAN) was set up as a registered society to provide financial medical assistance to poor patients receiving treatment in designated central government hospitals.</td>\n",
              "      <td>રાષ્ટ્રીય આરોગ્ય નિધિની રચના એક નોંધાયેલી સોસાયટી સ્વરૂપે કરવામાં આવી હતી, જેથી કેન્દ્રીય સરકારી હોસ્પિટલોમાં સારવાર કરાવતાં ગરીબ દર્દીઓને નાણાકીય ચિકિત્સા સહાયતા આપી શકાશે.</td>\n",
              "    </tr>\n",
              "    <tr>\n",
              "      <th>4</th>\n",
              "      <td>An advance is placed with the Medical Superintendents of such hospitals who then provide assistance on a case to case basis.</td>\n",
              "      <td>આ હોસ્પિટલનાં તબીબી નિરીક્ષકોને આગોતરૂ ભંડોળ આપવામાં આવશે, જે દરેક કેસને જોઈને સહાયતા પ્રદાન કરશે.</td>\n",
              "    </tr>\n",
              "  </tbody>\n",
              "</table>\n",
              "</div>\n",
              "      <button class=\"colab-df-convert\" onclick=\"convertToInteractive('df-f2cf21bf-9cb5-4366-8647-640992e78ab7')\"\n",
              "              title=\"Convert this dataframe to an interactive table.\"\n",
              "              style=\"display:none;\">\n",
              "        \n",
              "  <svg xmlns=\"http://www.w3.org/2000/svg\" height=\"24px\"viewBox=\"0 0 24 24\"\n",
              "       width=\"24px\">\n",
              "    <path d=\"M0 0h24v24H0V0z\" fill=\"none\"/>\n",
              "    <path d=\"M18.56 5.44l.94 2.06.94-2.06 2.06-.94-2.06-.94-.94-2.06-.94 2.06-2.06.94zm-11 1L8.5 8.5l.94-2.06 2.06-.94-2.06-.94L8.5 2.5l-.94 2.06-2.06.94zm10 10l.94 2.06.94-2.06 2.06-.94-2.06-.94-.94-2.06-.94 2.06-2.06.94z\"/><path d=\"M17.41 7.96l-1.37-1.37c-.4-.4-.92-.59-1.43-.59-.52 0-1.04.2-1.43.59L10.3 9.45l-7.72 7.72c-.78.78-.78 2.05 0 2.83L4 21.41c.39.39.9.59 1.41.59.51 0 1.02-.2 1.41-.59l7.78-7.78 2.81-2.81c.8-.78.8-2.07 0-2.86zM5.41 20L4 18.59l7.72-7.72 1.47 1.35L5.41 20z\"/>\n",
              "  </svg>\n",
              "      </button>\n",
              "      \n",
              "  <style>\n",
              "    .colab-df-container {\n",
              "      display:flex;\n",
              "      flex-wrap:wrap;\n",
              "      gap: 12px;\n",
              "    }\n",
              "\n",
              "    .colab-df-convert {\n",
              "      background-color: #E8F0FE;\n",
              "      border: none;\n",
              "      border-radius: 50%;\n",
              "      cursor: pointer;\n",
              "      display: none;\n",
              "      fill: #1967D2;\n",
              "      height: 32px;\n",
              "      padding: 0 0 0 0;\n",
              "      width: 32px;\n",
              "    }\n",
              "\n",
              "    .colab-df-convert:hover {\n",
              "      background-color: #E2EBFA;\n",
              "      box-shadow: 0px 1px 2px rgba(60, 64, 67, 0.3), 0px 1px 3px 1px rgba(60, 64, 67, 0.15);\n",
              "      fill: #174EA6;\n",
              "    }\n",
              "\n",
              "    [theme=dark] .colab-df-convert {\n",
              "      background-color: #3B4455;\n",
              "      fill: #D2E3FC;\n",
              "    }\n",
              "\n",
              "    [theme=dark] .colab-df-convert:hover {\n",
              "      background-color: #434B5C;\n",
              "      box-shadow: 0px 1px 3px 1px rgba(0, 0, 0, 0.15);\n",
              "      filter: drop-shadow(0px 1px 2px rgba(0, 0, 0, 0.3));\n",
              "      fill: #FFFFFF;\n",
              "    }\n",
              "  </style>\n",
              "\n",
              "      <script>\n",
              "        const buttonEl =\n",
              "          document.querySelector('#df-f2cf21bf-9cb5-4366-8647-640992e78ab7 button.colab-df-convert');\n",
              "        buttonEl.style.display =\n",
              "          google.colab.kernel.accessAllowed ? 'block' : 'none';\n",
              "\n",
              "        async function convertToInteractive(key) {\n",
              "          const element = document.querySelector('#df-f2cf21bf-9cb5-4366-8647-640992e78ab7');\n",
              "          const dataTable =\n",
              "            await google.colab.kernel.invokeFunction('convertToInteractive',\n",
              "                                                     [key], {});\n",
              "          if (!dataTable) return;\n",
              "\n",
              "          const docLinkHtml = 'Like what you see? Visit the ' +\n",
              "            '<a target=\"_blank\" href=https://colab.research.google.com/notebooks/data_table.ipynb>data table notebook</a>'\n",
              "            + ' to learn more about interactive tables.';\n",
              "          element.innerHTML = '';\n",
              "          dataTable['output_type'] = 'display_data';\n",
              "          await google.colab.output.renderOutput(dataTable, element);\n",
              "          const docLink = document.createElement('div');\n",
              "          docLink.innerHTML = docLinkHtml;\n",
              "          element.appendChild(docLink);\n",
              "        }\n",
              "      </script>\n",
              "    </div>\n",
              "  </div>\n",
              "  "
            ]
          },
          "metadata": {},
          "execution_count": 46
        }
      ]
    },
    {
      "cell_type": "code",
      "source": [
        "# Lowercase all characters\n",
        "lines['english_sentence']=lines['english_sentence'].apply(lambda x: str(x))\n",
        "lines['guj_sentence']=lines['guj_sentence'].apply(lambda x: str(x))\n",
        "lines['english_sentence']=lines['english_sentence'].apply(lambda x: x.lower())\n",
        "lines['guj_sentence']=lines['guj_sentence'].apply(lambda x: x.lower())"
      ],
      "metadata": {
        "id": "J5mbVwQfxZX8"
      },
      "execution_count": null,
      "outputs": []
    },
    {
      "cell_type": "code",
      "source": [
        "# Remove quotes\n",
        "lines['english_sentence']=lines['english_sentence'].apply(lambda x: re.sub(\"'\", '', x))\n",
        "lines['guj_sentence']=lines['guj_sentence'].apply(lambda x: re.sub(\"'\", '', x))"
      ],
      "metadata": {
        "id": "pk90RJhmxctz"
      },
      "execution_count": null,
      "outputs": []
    },
    {
      "cell_type": "code",
      "source": [
        "exclude = set(string.punctuation) # Set of all special characters\n",
        "# Remove all the special characters\n",
        "lines['english_sentence']=lines['english_sentence'].apply(lambda x: ''.join(ch for ch in x if ch not in exclude))\n",
        "lines['guj_sentence']=lines['guj_sentence'].apply(lambda x: ''.join(ch for ch in x if ch not in exclude))"
      ],
      "metadata": {
        "id": "0SmzVlG0x5kV"
      },
      "execution_count": null,
      "outputs": []
    },
    {
      "cell_type": "code",
      "source": [
        "# Remove all numbers from text\n",
        "remove_digits = str.maketrans('', '', digits)\n",
        "lines['english_sentence']=lines['english_sentence'].apply(lambda x: x.translate(remove_digits))\n",
        "lines['guj_sentence']=lines['guj_sentence'].apply(lambda x: x.translate(remove_digits))\n",
        "lines['guj_sentence'] = lines['guj_sentence'].apply(lambda x: re.sub(\"[२३०८१५७९४६]\", \"\", x))\n",
        "\n",
        "# Remove extra spaces\n",
        "lines['english_sentence']=lines['english_sentence'].apply(lambda x: x.strip())\n",
        "lines['guj_sentence']=lines['guj_sentence'].apply(lambda x: x.strip())\n",
        "lines['english_sentence']=lines['english_sentence'].apply(lambda x: re.sub(\" +\", \" \", x))\n",
        "lines['guj_sentence']=lines['guj_sentence'].apply(lambda x: re.sub(\" +\", \" \", x))"
      ],
      "metadata": {
        "id": "eWZCfbZ0yIfA"
      },
      "execution_count": null,
      "outputs": []
    },
    {
      "cell_type": "code",
      "source": [
        "lines.head()"
      ],
      "metadata": {
        "colab": {
          "base_uri": "https://localhost:8080/",
          "height": 372
        },
        "id": "HuW4mmTZylbS",
        "outputId": "be59b6a0-b380-4fd8-b37b-268a0999241a"
      },
      "execution_count": null,
      "outputs": [
        {
          "output_type": "execute_result",
          "data": {
            "text/plain": [
              "                                                                                                                                                                                                                                                                        english_sentence                                                                                                                                                                 guj_sentence\n",
              "0  the union cabinet chaired by prime minister shri narendra modi has approved the proposal for closure of autonomous bodies namely rashtriya arogya nidhi ran and jansankhya sthirata kosh jsk and the functions are proposed to be vested in department of health family welfare dohfw  પ્રધાનમંત્રી શ્રી નરેન્દ્ર મોદીની અધ્યક્ષતામાં મંત્રીમંડળે સ્વાસ્થ્ય અને પરિવાર કલ્યાણ વિભાગ અંતર્ગત સ્વાયત્ત સંસ્થાઓને તર્કસંગત બનાવવાની મંજૂરી આપી છે                    \n",
              "1  the rationalization of autonomous bodies under department of health family welfare will involve interministerial consultations and review of existing bye laws of these bodies                                                                                                         આ સંસ્થાઓમાં રાષ્ટ્રીય આરોગ્ય નિધિ આરએએન અને જનસંખ્યા સ્થિરતા કોષ જેએસકે સામેલ છે                                                                                          \n",
              "2  the time frame for implementation is one year                                                                                                                                                                                                                                          તેનાં કામકાજને સ્વાસ્થ્ય અને પરિવાર કલ્યાણ વિભાગ અંતર્ગત રાખવાનો પ્રસ્તાવ પણ છે                                                                                            \n",
              "3  rashtriya arogya nidhi ran was set up as a registered society to provide financial medical assistance to poor patients receiving treatment in designated central government hospitals                                                                                                  રાષ્ટ્રીય આરોગ્ય નિધિની રચના એક નોંધાયેલી સોસાયટી સ્વરૂપે કરવામાં આવી હતી જેથી કેન્દ્રીય સરકારી હોસ્પિટલોમાં સારવાર કરાવતાં ગરીબ દર્દીઓને નાણાકીય ચિકિત્સા સહાયતા આપી શકાશે\n",
              "4  an advance is placed with the medical superintendents of such hospitals who then provide assistance on a case to case basis                                                                                                                                                            આ હોસ્પિટલનાં તબીબી નિરીક્ષકોને આગોતરૂ ભંડોળ આપવામાં આવશે જે દરેક કેસને જોઈને સહાયતા પ્રદાન કરશે                                                                           "
            ],
            "text/html": [
              "\n",
              "  <div id=\"df-2287000e-e0ed-463a-8aa3-e857bce6af40\">\n",
              "    <div class=\"colab-df-container\">\n",
              "      <div>\n",
              "<style scoped>\n",
              "    .dataframe tbody tr th:only-of-type {\n",
              "        vertical-align: middle;\n",
              "    }\n",
              "\n",
              "    .dataframe tbody tr th {\n",
              "        vertical-align: top;\n",
              "    }\n",
              "\n",
              "    .dataframe thead th {\n",
              "        text-align: right;\n",
              "    }\n",
              "</style>\n",
              "<table border=\"1\" class=\"dataframe\">\n",
              "  <thead>\n",
              "    <tr style=\"text-align: right;\">\n",
              "      <th></th>\n",
              "      <th>english_sentence</th>\n",
              "      <th>guj_sentence</th>\n",
              "    </tr>\n",
              "  </thead>\n",
              "  <tbody>\n",
              "    <tr>\n",
              "      <th>0</th>\n",
              "      <td>the union cabinet chaired by prime minister shri narendra modi has approved the proposal for closure of autonomous bodies namely rashtriya arogya nidhi ran and jansankhya sthirata kosh jsk and the functions are proposed to be vested in department of health family welfare dohfw</td>\n",
              "      <td>પ્રધાનમંત્રી શ્રી નરેન્દ્ર મોદીની અધ્યક્ષતામાં મંત્રીમંડળે સ્વાસ્થ્ય અને પરિવાર કલ્યાણ વિભાગ અંતર્ગત સ્વાયત્ત સંસ્થાઓને તર્કસંગત બનાવવાની મંજૂરી આપી છે</td>\n",
              "    </tr>\n",
              "    <tr>\n",
              "      <th>1</th>\n",
              "      <td>the rationalization of autonomous bodies under department of health family welfare will involve interministerial consultations and review of existing bye laws of these bodies</td>\n",
              "      <td>આ સંસ્થાઓમાં રાષ્ટ્રીય આરોગ્ય નિધિ આરએએન અને જનસંખ્યા સ્થિરતા કોષ જેએસકે સામેલ છે</td>\n",
              "    </tr>\n",
              "    <tr>\n",
              "      <th>2</th>\n",
              "      <td>the time frame for implementation is one year</td>\n",
              "      <td>તેનાં કામકાજને સ્વાસ્થ્ય અને પરિવાર કલ્યાણ વિભાગ અંતર્ગત રાખવાનો પ્રસ્તાવ પણ છે</td>\n",
              "    </tr>\n",
              "    <tr>\n",
              "      <th>3</th>\n",
              "      <td>rashtriya arogya nidhi ran was set up as a registered society to provide financial medical assistance to poor patients receiving treatment in designated central government hospitals</td>\n",
              "      <td>રાષ્ટ્રીય આરોગ્ય નિધિની રચના એક નોંધાયેલી સોસાયટી સ્વરૂપે કરવામાં આવી હતી જેથી કેન્દ્રીય સરકારી હોસ્પિટલોમાં સારવાર કરાવતાં ગરીબ દર્દીઓને નાણાકીય ચિકિત્સા સહાયતા આપી શકાશે</td>\n",
              "    </tr>\n",
              "    <tr>\n",
              "      <th>4</th>\n",
              "      <td>an advance is placed with the medical superintendents of such hospitals who then provide assistance on a case to case basis</td>\n",
              "      <td>આ હોસ્પિટલનાં તબીબી નિરીક્ષકોને આગોતરૂ ભંડોળ આપવામાં આવશે જે દરેક કેસને જોઈને સહાયતા પ્રદાન કરશે</td>\n",
              "    </tr>\n",
              "  </tbody>\n",
              "</table>\n",
              "</div>\n",
              "      <button class=\"colab-df-convert\" onclick=\"convertToInteractive('df-2287000e-e0ed-463a-8aa3-e857bce6af40')\"\n",
              "              title=\"Convert this dataframe to an interactive table.\"\n",
              "              style=\"display:none;\">\n",
              "        \n",
              "  <svg xmlns=\"http://www.w3.org/2000/svg\" height=\"24px\"viewBox=\"0 0 24 24\"\n",
              "       width=\"24px\">\n",
              "    <path d=\"M0 0h24v24H0V0z\" fill=\"none\"/>\n",
              "    <path d=\"M18.56 5.44l.94 2.06.94-2.06 2.06-.94-2.06-.94-.94-2.06-.94 2.06-2.06.94zm-11 1L8.5 8.5l.94-2.06 2.06-.94-2.06-.94L8.5 2.5l-.94 2.06-2.06.94zm10 10l.94 2.06.94-2.06 2.06-.94-2.06-.94-.94-2.06-.94 2.06-2.06.94z\"/><path d=\"M17.41 7.96l-1.37-1.37c-.4-.4-.92-.59-1.43-.59-.52 0-1.04.2-1.43.59L10.3 9.45l-7.72 7.72c-.78.78-.78 2.05 0 2.83L4 21.41c.39.39.9.59 1.41.59.51 0 1.02-.2 1.41-.59l7.78-7.78 2.81-2.81c.8-.78.8-2.07 0-2.86zM5.41 20L4 18.59l7.72-7.72 1.47 1.35L5.41 20z\"/>\n",
              "  </svg>\n",
              "      </button>\n",
              "      \n",
              "  <style>\n",
              "    .colab-df-container {\n",
              "      display:flex;\n",
              "      flex-wrap:wrap;\n",
              "      gap: 12px;\n",
              "    }\n",
              "\n",
              "    .colab-df-convert {\n",
              "      background-color: #E8F0FE;\n",
              "      border: none;\n",
              "      border-radius: 50%;\n",
              "      cursor: pointer;\n",
              "      display: none;\n",
              "      fill: #1967D2;\n",
              "      height: 32px;\n",
              "      padding: 0 0 0 0;\n",
              "      width: 32px;\n",
              "    }\n",
              "\n",
              "    .colab-df-convert:hover {\n",
              "      background-color: #E2EBFA;\n",
              "      box-shadow: 0px 1px 2px rgba(60, 64, 67, 0.3), 0px 1px 3px 1px rgba(60, 64, 67, 0.15);\n",
              "      fill: #174EA6;\n",
              "    }\n",
              "\n",
              "    [theme=dark] .colab-df-convert {\n",
              "      background-color: #3B4455;\n",
              "      fill: #D2E3FC;\n",
              "    }\n",
              "\n",
              "    [theme=dark] .colab-df-convert:hover {\n",
              "      background-color: #434B5C;\n",
              "      box-shadow: 0px 1px 3px 1px rgba(0, 0, 0, 0.15);\n",
              "      filter: drop-shadow(0px 1px 2px rgba(0, 0, 0, 0.3));\n",
              "      fill: #FFFFFF;\n",
              "    }\n",
              "  </style>\n",
              "\n",
              "      <script>\n",
              "        const buttonEl =\n",
              "          document.querySelector('#df-2287000e-e0ed-463a-8aa3-e857bce6af40 button.colab-df-convert');\n",
              "        buttonEl.style.display =\n",
              "          google.colab.kernel.accessAllowed ? 'block' : 'none';\n",
              "\n",
              "        async function convertToInteractive(key) {\n",
              "          const element = document.querySelector('#df-2287000e-e0ed-463a-8aa3-e857bce6af40');\n",
              "          const dataTable =\n",
              "            await google.colab.kernel.invokeFunction('convertToInteractive',\n",
              "                                                     [key], {});\n",
              "          if (!dataTable) return;\n",
              "\n",
              "          const docLinkHtml = 'Like what you see? Visit the ' +\n",
              "            '<a target=\"_blank\" href=https://colab.research.google.com/notebooks/data_table.ipynb>data table notebook</a>'\n",
              "            + ' to learn more about interactive tables.';\n",
              "          element.innerHTML = '';\n",
              "          dataTable['output_type'] = 'display_data';\n",
              "          await google.colab.output.renderOutput(dataTable, element);\n",
              "          const docLink = document.createElement('div');\n",
              "          docLink.innerHTML = docLinkHtml;\n",
              "          element.appendChild(docLink);\n",
              "        }\n",
              "      </script>\n",
              "    </div>\n",
              "  </div>\n",
              "  "
            ]
          },
          "metadata": {},
          "execution_count": 51
        }
      ]
    },
    {
      "cell_type": "code",
      "source": [
        "# Split the data into input and target sentences\n",
        "input_sentences = []\n",
        "target_sentences = []\n",
        "for i in range(len(lines)):\n",
        "    input_sentences.append(lines['english_sentence'][i])\n",
        "    target_sentences.append(lines['guj_sentence'][i])"
      ],
      "metadata": {
        "id": "lLAbsi4ivFtu"
      },
      "execution_count": null,
      "outputs": []
    },
    {
      "cell_type": "code",
      "source": [
        "# Create the vocabulary\n",
        "input_vocab = sorted(set(\"\".join(input_sentences)))\n",
        "target_vocab = sorted(set(\"\".join(target_sentences)))"
      ],
      "metadata": {
        "id": "ddJXaMULvN2X"
      },
      "execution_count": null,
      "outputs": []
    },
    {
      "cell_type": "code",
      "source": [
        "# Create lookup dictionaries\n",
        "input_dict = {char: i for i, char in enumerate(input_vocab)}\n",
        "target_dict = {char: i for i, char in enumerate(target_vocab)}\n",
        "print(input_dict,\"\\n\",len(input_dict))\n",
        "print(target_dict,\"\\n\",len(target_dict))"
      ],
      "metadata": {
        "id": "EBpED9CRvQ4c",
        "colab": {
          "base_uri": "https://localhost:8080/"
        },
        "outputId": "df1febfc-265b-469f-951a-b51a7db1c366"
      },
      "execution_count": null,
      "outputs": [
        {
          "output_type": "stream",
          "name": "stdout",
          "text": [
            "{' ': 0, 'a': 1, 'b': 2, 'c': 3, 'd': 4, 'e': 5, 'f': 6, 'g': 7, 'h': 8, 'i': 9, 'j': 10, 'k': 11, 'l': 12, 'm': 13, 'n': 14, 'o': 15, 'p': 16, 'q': 17, 'r': 18, 's': 19, 't': 20, 'u': 21, 'v': 22, 'w': 23, 'x': 24, 'y': 25, 'z': 26, 'अ': 27, 'क': 28, 'ग': 29, 'ण': 30, 'थ': 31, 'न': 32, 'ब': 33, 'म': 34, 'य': 35, 'र': 36, 'ल': 37, 'व': 38, 'ष': 39, 'स': 40, 'ह': 41, 'ा': 42, 'ि': 43, 'ी': 44, 'ृ': 45, 'े': 46, 'ो': 47, 'ौ': 48, '्': 49, '–': 50, '—': 51, '‘': 52, '’': 53, '“': 54, '”': 55, '•': 56} \n",
            " 57\n",
            "{' ': 0, 'a': 1, 'c': 2, 'd': 3, 'e': 4, 'f': 5, 'g': 6, 'i': 7, 'm': 8, 'n': 9, 'o': 10, 'p': 11, 'r': 12, 's': 13, 't': 14, 'v': 15, 'y': 16, 'ઁ': 17, 'ં': 18, 'ઃ': 19, 'અ': 20, 'આ': 21, 'ઇ': 22, 'ઈ': 23, 'ઉ': 24, 'ઊ': 25, 'ઋ': 26, 'એ': 27, 'ઐ': 28, 'ઑ': 29, 'ઓ': 30, 'ઔ': 31, 'ક': 32, 'ખ': 33, 'ગ': 34, 'ઘ': 35, 'ચ': 36, 'છ': 37, 'જ': 38, 'ઝ': 39, 'ઞ': 40, 'ટ': 41, 'ઠ': 42, 'ડ': 43, 'ઢ': 44, 'ણ': 45, 'ત': 46, 'થ': 47, 'દ': 48, 'ધ': 49, 'ન': 50, 'પ': 51, 'ફ': 52, 'બ': 53, 'ભ': 54, 'મ': 55, 'ય': 56, 'ર': 57, 'લ': 58, 'ળ': 59, 'વ': 60, 'શ': 61, 'ષ': 62, 'સ': 63, 'હ': 64, 'ા': 65, 'િ': 66, 'ી': 67, 'ુ': 68, 'ૂ': 69, 'ૃ': 70, 'ે': 71, 'ૈ': 72, 'ૉ': 73, 'ો': 74, 'ૌ': 75, '્': 76, '૦': 77, '૧': 78, '૨': 79, '૫': 80, '૭': 81, '૮': 82, '૯': 83, '–': 84, '‘': 85, '’': 86, '“': 87, '”': 88, '•': 89, '…': 90} \n",
            " 91\n"
          ]
        }
      ]
    },
    {
      "cell_type": "code",
      "source": [
        "# Determine the maximum sequence length\n",
        "max_len_input = max([len(sentence) for sentence in input_sentences])\n",
        "max_len_target = max([len(sentence) for sentence in target_sentences])"
      ],
      "metadata": {
        "id": "euu0xHiivpLl"
      },
      "execution_count": null,
      "outputs": []
    },
    {
      "cell_type": "code",
      "source": [
        "# Create the encoder input data\n",
        "encoder_input_data = np.zeros((len(input_sentences), max_len_input, len(input_vocab)), dtype=\"float32\")\n",
        "for i, sentence in enumerate(input_sentences):\n",
        "    for j, char in enumerate(sentence):\n",
        "        encoder_input_data[i, j, input_dict[char]] = 1.0"
      ],
      "metadata": {
        "id": "h7eoLIwvvsdS"
      },
      "execution_count": null,
      "outputs": []
    },
    {
      "cell_type": "code",
      "source": [
        "# Create the decoder input data and target data\n",
        "decoder_input_data = np.zeros((len(target_sentences), max_len_target, len(target_vocab)), dtype=\"float32\")\n",
        "decoder_target_data = np.zeros((len(target_sentences), max_len_target, len(target_vocab)), dtype=\"float32\")\n",
        "for i, sentence in enumerate(target_sentences):\n",
        "    for j, char in enumerate(sentence):\n",
        "        decoder_input_data[i, j, target_dict[char]] = 1.0\n",
        "        if j > 0:\n",
        "            decoder_target_data[i, j - 1, target_dict[char]] = 1.0"
      ],
      "metadata": {
        "id": "r1_nu0ypv0L8"
      },
      "execution_count": null,
      "outputs": []
    },
    {
      "cell_type": "code",
      "source": [
        "# Step 2: Build the GRU model\n",
        "encoder_inputs = tf.keras.layers.Input(shape=(None, len(input_vocab)))\n",
        "encoder = tf.keras.layers.GRU(91, return_state=True)\n",
        "encoder_outputs, state_h = encoder(encoder_inputs)\n",
        "encoder_states = [state_h]\n",
        "\n",
        "decoder_inputs = tf.keras.layers.Input(shape=(None, len(target_vocab)))\n",
        "decoder_gru = tf.keras.layers.GRU(91, return_sequences=True, return_state=True)\n",
        "decoder_outputs, _ = decoder_gru(decoder_inputs, initial_state=state_h)\n",
        "decoder_dense = tf.keras.layers.Dense(len(target_vocab), activation=\"softmax\")\n",
        "decoder_outputs = decoder_dense(decoder_outputs)\n",
        "\n",
        "model = tf.keras.models.Model([encoder_inputs, decoder_inputs], decoder_outputs)"
      ],
      "metadata": {
        "id": "2lPsgWjcv7Km"
      },
      "execution_count": null,
      "outputs": []
    },
    {
      "cell_type": "code",
      "source": [
        "# Step 3: Train the model\n",
        "model.compile(optimizer=\"rmsprop\", loss=\"categorical_crossentropy\")\n",
        "model.fit(\n",
        "    [encoder_input_data, decoder_input_data],\n",
        "    decoder_target_data,\n",
        "    batch_size=1,\n",
        "    epochs=1,\n",
        "    validation_split=0.4,\n",
        ")"
      ],
      "metadata": {
        "id": "57WsFrnuv-ke",
        "colab": {
          "base_uri": "https://localhost:8080/"
        },
        "outputId": "03826e30-72d9-40cd-94c9-f5c7186a1857"
      },
      "execution_count": null,
      "outputs": [
        {
          "output_type": "stream",
          "name": "stdout",
          "text": [
            "600/600 [==============================] - 43s 67ms/step - loss: 0.4623 - val_loss: 0.3973\n"
          ]
        },
        {
          "output_type": "execute_result",
          "data": {
            "text/plain": [
              "<keras.callbacks.History at 0x7f805baf7280>"
            ]
          },
          "metadata": {},
          "execution_count": 59
        }
      ]
    },
    {
      "cell_type": "code",
      "source": [
        "# Step 4: Evaluate the model\n",
        "scores = model.evaluate([encoder_input_data, decoder_input_data], decoder_target_data, verbose=0)\n",
        "print(\"Test loss:\", scores)"
      ],
      "metadata": {
        "id": "QXt7sAjTv_sS",
        "colab": {
          "base_uri": "https://localhost:8080/"
        },
        "outputId": "c66aadf7-4ba2-496f-b6bb-574267de98ea"
      },
      "execution_count": null,
      "outputs": [
        {
          "output_type": "stream",
          "name": "stdout",
          "text": [
            "Test loss: 0.4250679314136505\n"
          ]
        }
      ]
    },
    {
      "cell_type": "code",
      "source": [
        "# Step 5: Use the model for translation\n",
        "encoder_model = tf.keras.models.Model(encoder_inputs, encoder_states)\n",
        "\n",
        "decoder_state_input = tf.keras.layers.Input(shape=(256,))\n",
        "decoder_outputs, decoder_state_h = decoder_gru(decoder_inputs, initial_state=decoder_state_input)\n",
        "decoder_outputs = decoder_dense(decoder_outputs)\n",
        "decoder_model = tf.keras.models.Model([decoder_inputs, decoder_state_input], [decoder_outputs, decoder_state_h])"
      ],
      "metadata": {
        "id": "euCpseqHwNXF",
        "colab": {
          "base_uri": "https://localhost:8080/",
          "height": 536
        },
        "outputId": "93044ab9-c32c-4b4a-e379-131498c3b77e"
      },
      "execution_count": null,
      "outputs": [
        {
          "output_type": "error",
          "ename": "ValueError",
          "evalue": "ignored",
          "traceback": [
            "\u001b[0;31m---------------------------------------------------------------------------\u001b[0m",
            "\u001b[0;31mValueError\u001b[0m                                Traceback (most recent call last)",
            "\u001b[0;32m<ipython-input-61-c67396e2e837>\u001b[0m in \u001b[0;36m<module>\u001b[0;34m\u001b[0m\n\u001b[1;32m      3\u001b[0m \u001b[0;34m\u001b[0m\u001b[0m\n\u001b[1;32m      4\u001b[0m \u001b[0mdecoder_state_input\u001b[0m \u001b[0;34m=\u001b[0m \u001b[0mtf\u001b[0m\u001b[0;34m.\u001b[0m\u001b[0mkeras\u001b[0m\u001b[0;34m.\u001b[0m\u001b[0mlayers\u001b[0m\u001b[0;34m.\u001b[0m\u001b[0mInput\u001b[0m\u001b[0;34m(\u001b[0m\u001b[0mshape\u001b[0m\u001b[0;34m=\u001b[0m\u001b[0;34m(\u001b[0m\u001b[0;36m256\u001b[0m\u001b[0;34m,\u001b[0m\u001b[0;34m)\u001b[0m\u001b[0;34m)\u001b[0m\u001b[0;34m\u001b[0m\u001b[0;34m\u001b[0m\u001b[0m\n\u001b[0;32m----> 5\u001b[0;31m \u001b[0mdecoder_outputs\u001b[0m\u001b[0;34m,\u001b[0m \u001b[0mdecoder_state_h\u001b[0m \u001b[0;34m=\u001b[0m \u001b[0mdecoder_gru\u001b[0m\u001b[0;34m(\u001b[0m\u001b[0mdecoder_inputs\u001b[0m\u001b[0;34m,\u001b[0m \u001b[0minitial_state\u001b[0m\u001b[0;34m=\u001b[0m\u001b[0mdecoder_state_input\u001b[0m\u001b[0;34m)\u001b[0m\u001b[0;34m\u001b[0m\u001b[0;34m\u001b[0m\u001b[0m\n\u001b[0m\u001b[1;32m      6\u001b[0m \u001b[0mdecoder_outputs\u001b[0m \u001b[0;34m=\u001b[0m \u001b[0mdecoder_dense\u001b[0m\u001b[0;34m(\u001b[0m\u001b[0mdecoder_outputs\u001b[0m\u001b[0;34m)\u001b[0m\u001b[0;34m\u001b[0m\u001b[0;34m\u001b[0m\u001b[0m\n\u001b[1;32m      7\u001b[0m \u001b[0mdecoder_model\u001b[0m \u001b[0;34m=\u001b[0m \u001b[0mtf\u001b[0m\u001b[0;34m.\u001b[0m\u001b[0mkeras\u001b[0m\u001b[0;34m.\u001b[0m\u001b[0mmodels\u001b[0m\u001b[0;34m.\u001b[0m\u001b[0mModel\u001b[0m\u001b[0;34m(\u001b[0m\u001b[0;34m[\u001b[0m\u001b[0mdecoder_inputs\u001b[0m\u001b[0;34m,\u001b[0m \u001b[0mdecoder_state_input\u001b[0m\u001b[0;34m]\u001b[0m\u001b[0;34m,\u001b[0m \u001b[0;34m[\u001b[0m\u001b[0mdecoder_outputs\u001b[0m\u001b[0;34m,\u001b[0m \u001b[0mdecoder_state_h\u001b[0m\u001b[0;34m]\u001b[0m\u001b[0;34m)\u001b[0m\u001b[0;34m\u001b[0m\u001b[0;34m\u001b[0m\u001b[0m\n",
            "\u001b[0;32m/usr/local/lib/python3.9/dist-packages/keras/layers/rnn/base_rnn.py\u001b[0m in \u001b[0;36m__call__\u001b[0;34m(self, inputs, initial_state, constants, **kwargs)\u001b[0m\n\u001b[1;32m    613\u001b[0m             \u001b[0;31m# Perform the call with temporarily replaced input_spec\u001b[0m\u001b[0;34m\u001b[0m\u001b[0;34m\u001b[0m\u001b[0m\n\u001b[1;32m    614\u001b[0m             \u001b[0mself\u001b[0m\u001b[0;34m.\u001b[0m\u001b[0minput_spec\u001b[0m \u001b[0;34m=\u001b[0m \u001b[0mfull_input_spec\u001b[0m\u001b[0;34m\u001b[0m\u001b[0;34m\u001b[0m\u001b[0m\n\u001b[0;32m--> 615\u001b[0;31m             \u001b[0moutput\u001b[0m \u001b[0;34m=\u001b[0m \u001b[0msuper\u001b[0m\u001b[0;34m(\u001b[0m\u001b[0;34m)\u001b[0m\u001b[0;34m.\u001b[0m\u001b[0m__call__\u001b[0m\u001b[0;34m(\u001b[0m\u001b[0mfull_input\u001b[0m\u001b[0;34m,\u001b[0m \u001b[0;34m**\u001b[0m\u001b[0mkwargs\u001b[0m\u001b[0;34m)\u001b[0m\u001b[0;34m\u001b[0m\u001b[0;34m\u001b[0m\u001b[0m\n\u001b[0m\u001b[1;32m    616\u001b[0m             \u001b[0;31m# Remove the additional_specs from input spec and keep the rest. It\u001b[0m\u001b[0;34m\u001b[0m\u001b[0;34m\u001b[0m\u001b[0m\n\u001b[1;32m    617\u001b[0m             \u001b[0;31m# is important to keep since the input spec was populated by\u001b[0m\u001b[0;34m\u001b[0m\u001b[0;34m\u001b[0m\u001b[0m\n",
            "\u001b[0;32m/usr/local/lib/python3.9/dist-packages/keras/utils/traceback_utils.py\u001b[0m in \u001b[0;36merror_handler\u001b[0;34m(*args, **kwargs)\u001b[0m\n\u001b[1;32m     68\u001b[0m             \u001b[0;31m# To get the full stack trace, call:\u001b[0m\u001b[0;34m\u001b[0m\u001b[0;34m\u001b[0m\u001b[0m\n\u001b[1;32m     69\u001b[0m             \u001b[0;31m# `tf.debugging.disable_traceback_filtering()`\u001b[0m\u001b[0;34m\u001b[0m\u001b[0;34m\u001b[0m\u001b[0m\n\u001b[0;32m---> 70\u001b[0;31m             \u001b[0;32mraise\u001b[0m \u001b[0me\u001b[0m\u001b[0;34m.\u001b[0m\u001b[0mwith_traceback\u001b[0m\u001b[0;34m(\u001b[0m\u001b[0mfiltered_tb\u001b[0m\u001b[0;34m)\u001b[0m \u001b[0;32mfrom\u001b[0m \u001b[0;32mNone\u001b[0m\u001b[0;34m\u001b[0m\u001b[0;34m\u001b[0m\u001b[0m\n\u001b[0m\u001b[1;32m     71\u001b[0m         \u001b[0;32mfinally\u001b[0m\u001b[0;34m:\u001b[0m\u001b[0;34m\u001b[0m\u001b[0;34m\u001b[0m\u001b[0m\n\u001b[1;32m     72\u001b[0m             \u001b[0;32mdel\u001b[0m \u001b[0mfiltered_tb\u001b[0m\u001b[0;34m\u001b[0m\u001b[0;34m\u001b[0m\u001b[0m\n",
            "\u001b[0;32m/usr/local/lib/python3.9/dist-packages/keras/backend.py\u001b[0m in \u001b[0;36mdot\u001b[0;34m(x, y)\u001b[0m\n\u001b[1;32m   2453\u001b[0m         \u001b[0mout\u001b[0m \u001b[0;34m=\u001b[0m \u001b[0mtf\u001b[0m\u001b[0;34m.\u001b[0m\u001b[0msparse\u001b[0m\u001b[0;34m.\u001b[0m\u001b[0msparse_dense_matmul\u001b[0m\u001b[0;34m(\u001b[0m\u001b[0mx\u001b[0m\u001b[0;34m,\u001b[0m \u001b[0my\u001b[0m\u001b[0;34m)\u001b[0m\u001b[0;34m\u001b[0m\u001b[0;34m\u001b[0m\u001b[0m\n\u001b[1;32m   2454\u001b[0m     \u001b[0;32melse\u001b[0m\u001b[0;34m:\u001b[0m\u001b[0;34m\u001b[0m\u001b[0;34m\u001b[0m\u001b[0m\n\u001b[0;32m-> 2455\u001b[0;31m         \u001b[0mout\u001b[0m \u001b[0;34m=\u001b[0m \u001b[0mtf\u001b[0m\u001b[0;34m.\u001b[0m\u001b[0mmatmul\u001b[0m\u001b[0;34m(\u001b[0m\u001b[0mx\u001b[0m\u001b[0;34m,\u001b[0m \u001b[0my\u001b[0m\u001b[0;34m)\u001b[0m\u001b[0;34m\u001b[0m\u001b[0;34m\u001b[0m\u001b[0m\n\u001b[0m\u001b[1;32m   2456\u001b[0m     \u001b[0;32mreturn\u001b[0m \u001b[0mout\u001b[0m\u001b[0;34m\u001b[0m\u001b[0;34m\u001b[0m\u001b[0m\n\u001b[1;32m   2457\u001b[0m \u001b[0;34m\u001b[0m\u001b[0m\n",
            "\u001b[0;31mValueError\u001b[0m: Exception encountered when calling layer \"gru_3\" (type GRU).\n\nDimensions must be equal, but are 256 and 91 for '{{node MatMul_1}} = MatMul[T=DT_FLOAT, transpose_a=false, transpose_b=false](init_h, recurrent_kernel)' with input shapes: [?,256], [91,273].\n\nCall arguments received by layer \"gru_3\" (type GRU):\n  • inputs=['tf.Tensor(shape=(None, None, 91), dtype=float32)', 'tf.Tensor(shape=(None, 256), dtype=float32)']\n  • mask=None\n  • training=None\n  • initial_state=None"
          ]
        }
      ]
    },
    {
      "cell_type": "code",
      "source": [
        "def translate(input_sentence):\n",
        "    # Encode the input sentence\n",
        "    states_value = encoder_model.predict(np.array([input_sentence]))\n",
        "    \n",
        "    # Initialize the target sequence with a start token\n",
        "    target_seq = np.zeros((1, 1, len(target_vocab)))\n",
        "    # Generate the target sequence one character at a time\n",
        "    stop_condition = False\n",
        "    translation = \"\"\n",
        "    while not stop_condition:\n",
        "        output_tokens, h = decoder_model.predict([target_seq] + states_value)\n",
        "        # Sample a token\n",
        "        sampled_token_index = np.argmax(output_tokens[0, -1, :])\n",
        "        sampled_char = target_vocab[sampled_token_index]\n",
        "        # Append the sampled character to the translation\n",
        "        translation += sampled_char\n",
        "        # Check if the stop condition is met\n",
        "        if sampled_char == \"\\n\" or len(translation) > max_len_target:\n",
        "            stop_condition = True\n",
        "        # Update the target sequence\n",
        "        target_seq = np.zeros((1, 1, len(target_vocab)))\n",
        "        target_seq[0, 0, sampled_token_index] = 1.0\n",
        "        # Update the states\n",
        "        states_value = [h]\n",
        "    \n",
        "    return translation"
      ],
      "metadata": {
        "id": "_2FS5LVLwRIa"
      },
      "execution_count": null,
      "outputs": []
    },
    {
      "cell_type": "code",
      "source": [
        "# Test the translation function\n",
        "input_sentence = encoder_input_data[0]\n",
        "translation = translate(input_sentence)\n",
        "print(\"Input sentence:\", input_sentences[0])\n",
        "print(\"Translation:\", translation[:-1])"
      ],
      "metadata": {
        "id": "78GpfEdTwSx4",
        "colab": {
          "base_uri": "https://localhost:8080/",
          "height": 373
        },
        "outputId": "b1e6fe7e-080e-45ef-91da-7f52e72db47d"
      },
      "execution_count": null,
      "outputs": [
        {
          "output_type": "stream",
          "name": "stdout",
          "text": [
            "1/1 [==============================] - 0s 45ms/step\n"
          ]
        },
        {
          "output_type": "error",
          "ename": "ValueError",
          "evalue": "ignored",
          "traceback": [
            "\u001b[0;31m---------------------------------------------------------------------------\u001b[0m",
            "\u001b[0;31mValueError\u001b[0m                                Traceback (most recent call last)",
            "\u001b[0;32m<ipython-input-44-fbb2caaa2d89>\u001b[0m in \u001b[0;36m<module>\u001b[0;34m\u001b[0m\n\u001b[1;32m      1\u001b[0m \u001b[0;31m# Test the translation function\u001b[0m\u001b[0;34m\u001b[0m\u001b[0;34m\u001b[0m\u001b[0m\n\u001b[1;32m      2\u001b[0m \u001b[0minput_sentence\u001b[0m \u001b[0;34m=\u001b[0m \u001b[0mencoder_input_data\u001b[0m\u001b[0;34m[\u001b[0m\u001b[0;36m0\u001b[0m\u001b[0;34m]\u001b[0m\u001b[0;34m\u001b[0m\u001b[0;34m\u001b[0m\u001b[0m\n\u001b[0;32m----> 3\u001b[0;31m \u001b[0mtranslation\u001b[0m \u001b[0;34m=\u001b[0m \u001b[0mtranslate\u001b[0m\u001b[0;34m(\u001b[0m\u001b[0minput_sentence\u001b[0m\u001b[0;34m)\u001b[0m\u001b[0;34m\u001b[0m\u001b[0;34m\u001b[0m\u001b[0m\n\u001b[0m\u001b[1;32m      4\u001b[0m \u001b[0mprint\u001b[0m\u001b[0;34m(\u001b[0m\u001b[0;34m\"Input sentence:\"\u001b[0m\u001b[0;34m,\u001b[0m \u001b[0minput_sentences\u001b[0m\u001b[0;34m[\u001b[0m\u001b[0;36m0\u001b[0m\u001b[0;34m]\u001b[0m\u001b[0;34m)\u001b[0m\u001b[0;34m\u001b[0m\u001b[0;34m\u001b[0m\u001b[0m\n\u001b[1;32m      5\u001b[0m \u001b[0mprint\u001b[0m\u001b[0;34m(\u001b[0m\u001b[0;34m\"Translation:\"\u001b[0m\u001b[0;34m,\u001b[0m \u001b[0mtranslation\u001b[0m\u001b[0;34m[\u001b[0m\u001b[0;34m:\u001b[0m\u001b[0;34m-\u001b[0m\u001b[0;36m1\u001b[0m\u001b[0;34m]\u001b[0m\u001b[0;34m)\u001b[0m\u001b[0;34m\u001b[0m\u001b[0;34m\u001b[0m\u001b[0m\n",
            "\u001b[0;32m<ipython-input-43-9266cb06596a>\u001b[0m in \u001b[0;36mtranslate\u001b[0;34m(input_sentence)\u001b[0m\n\u001b[1;32m      9\u001b[0m     \u001b[0mtranslation\u001b[0m \u001b[0;34m=\u001b[0m \u001b[0;34m\"\"\u001b[0m\u001b[0;34m\u001b[0m\u001b[0;34m\u001b[0m\u001b[0m\n\u001b[1;32m     10\u001b[0m     \u001b[0;32mwhile\u001b[0m \u001b[0;32mnot\u001b[0m \u001b[0mstop_condition\u001b[0m\u001b[0;34m:\u001b[0m\u001b[0;34m\u001b[0m\u001b[0;34m\u001b[0m\u001b[0m\n\u001b[0;32m---> 11\u001b[0;31m         \u001b[0moutput_tokens\u001b[0m\u001b[0;34m,\u001b[0m \u001b[0mh\u001b[0m \u001b[0;34m=\u001b[0m \u001b[0mdecoder_model\u001b[0m\u001b[0;34m.\u001b[0m\u001b[0mpredict\u001b[0m\u001b[0;34m(\u001b[0m\u001b[0;34m[\u001b[0m\u001b[0mtarget_seq\u001b[0m\u001b[0;34m]\u001b[0m \u001b[0;34m+\u001b[0m \u001b[0mstates_value\u001b[0m\u001b[0;34m)\u001b[0m\u001b[0;34m\u001b[0m\u001b[0;34m\u001b[0m\u001b[0m\n\u001b[0m\u001b[1;32m     12\u001b[0m         \u001b[0;31m# Sample a token\u001b[0m\u001b[0;34m\u001b[0m\u001b[0;34m\u001b[0m\u001b[0m\n\u001b[1;32m     13\u001b[0m         \u001b[0msampled_token_index\u001b[0m \u001b[0;34m=\u001b[0m \u001b[0mnp\u001b[0m\u001b[0;34m.\u001b[0m\u001b[0margmax\u001b[0m\u001b[0;34m(\u001b[0m\u001b[0moutput_tokens\u001b[0m\u001b[0;34m[\u001b[0m\u001b[0;36m0\u001b[0m\u001b[0;34m,\u001b[0m \u001b[0;34m-\u001b[0m\u001b[0;36m1\u001b[0m\u001b[0;34m,\u001b[0m \u001b[0;34m:\u001b[0m\u001b[0;34m]\u001b[0m\u001b[0;34m)\u001b[0m\u001b[0;34m\u001b[0m\u001b[0;34m\u001b[0m\u001b[0m\n",
            "\u001b[0;31mValueError\u001b[0m: operands could not be broadcast together with shapes (1,1,1,91) (1,256) "
          ]
        }
      ]
    }
  ]
}