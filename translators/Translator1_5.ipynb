{
  "nbformat": 4,
  "nbformat_minor": 0,
  "metadata": {
    "colab": {
      "provenance": []
    },
    "kernelspec": {
      "name": "python3",
      "display_name": "Python 3"
    },
    "language_info": {
      "name": "python"
    },
    "accelerator": "TPU",
    "gpuClass": "standard"
  },
  "cells": [
    {
      "cell_type": "code",
      "execution_count": null,
      "metadata": {
        "colab": {
          "base_uri": "https://localhost:8080/"
        },
        "id": "cPob7evtuhmw",
        "outputId": "1a9c09af-b515-4797-aa26-0a146e6bcd7a"
      },
      "outputs": [
        {
          "output_type": "stream",
          "name": "stderr",
          "text": [
            "<ipython-input-1-a3b3fedea4e5>:10: FutureWarning: Passing a negative integer is deprecated in version 1.0 and will not be supported in future version. Instead, use None to not limit the column width.\n",
            "  pd.set_option('display.max_colwidth', -1)\n"
          ]
        }
      ],
      "source": [
        "import tensorflow as tf\n",
        "import numpy as np\n",
        "import pandas as pd\n",
        "import re\n",
        "import string\n",
        "from string import digits\n",
        "pd.set_option('display.max_rows', 500)\n",
        "pd.set_option('display.max_columns', 500)\n",
        "pd.set_option('display.width', 1000)\n",
        "pd.set_option('display.max_colwidth', -1)"
      ]
    },
    {
      "cell_type": "code",
      "source": [
        "lines = pd.read_csv('/content/drive/MyDrive/Sem_8-G21/Datasets/gu-en.tsv',sep='\\t',names=['english_sentence', 'guj_sentence'])\n",
        "lines = lines[:1000]\n",
        "lines.head()"
      ],
      "metadata": {
        "colab": {
          "base_uri": "https://localhost:8080/",
          "height": 424
        },
        "id": "M6n_GXjnw6WX",
        "outputId": "fbf51681-56d1-44cf-920d-a724d8028ca5"
      },
      "execution_count": null,
      "outputs": [
        {
          "output_type": "execute_result",
          "data": {
            "text/plain": [
              "                                                                                                                                                                                                                                                                                   english_sentence                                                                                                                                                                   guj_sentence\n",
              "0  The Union Cabinet chaired by Prime Minister Shri Narendra Modi has approved the proposal for closure of Autonomous Bodies, namely, Rashtriya Arogya Nidhi (RAN) and Jansankhya Sthirata Kosh (JSK) and the functions are proposed to be vested in Department of Health & Family Welfare (DoHFW).  પ્રધાનમંત્રી શ્રી નરેન્દ્ર મોદીની અધ્યક્ષતામાં મંત્રીમંડળે સ્વાસ્થ્ય અને પરિવાર કલ્યાણ વિભાગ અંતર્ગત સ્વાયત્ત સંસ્થાઓને તર્કસંગત બનાવવાની મંજૂરી આપી છે.                     \n",
              "1  The rationalization of Autonomous Bodies under Department of Health & Family Welfare will involve inter-ministerial consultations and review of existing bye laws of these bodies.                                                                                                                આ સંસ્થાઓમાં રાષ્ટ્રીય આરોગ્ય નિધિ (આરએએન) અને જનસંખ્યા સ્થિરતા કોષ (જેએસકે) સામેલ છે.                                                                                       \n",
              "2  The time frame for implementation is one year,                                                                                                                                                                                                                                                    તેનાં કામકાજને સ્વાસ્થ્ય અને પરિવાર કલ્યાણ વિભાગ અંતર્ગત રાખવાનો પ્રસ્તાવ પણ છે.                                                                                             \n",
              "3  Rashtriya Arogya Nidhi (RAN) was set up as a registered society to provide financial medical assistance to poor patients receiving treatment in designated central government hospitals.                                                                                                          રાષ્ટ્રીય આરોગ્ય નિધિની રચના એક નોંધાયેલી સોસાયટી સ્વરૂપે કરવામાં આવી હતી, જેથી કેન્દ્રીય સરકારી હોસ્પિટલોમાં સારવાર કરાવતાં ગરીબ દર્દીઓને નાણાકીય ચિકિત્સા સહાયતા આપી શકાશે.\n",
              "4  An advance is placed with the Medical Superintendents of such hospitals who then provide assistance on a case to case basis.                                                                                                                                                                      આ હોસ્પિટલનાં તબીબી નિરીક્ષકોને આગોતરૂ ભંડોળ આપવામાં આવશે, જે દરેક કેસને જોઈને સહાયતા પ્રદાન કરશે.                                                                           "
            ],
            "text/html": [
              "\n",
              "  <div id=\"df-26cc6b11-6733-4633-ab14-6e19a341181a\">\n",
              "    <div class=\"colab-df-container\">\n",
              "      <div>\n",
              "<style scoped>\n",
              "    .dataframe tbody tr th:only-of-type {\n",
              "        vertical-align: middle;\n",
              "    }\n",
              "\n",
              "    .dataframe tbody tr th {\n",
              "        vertical-align: top;\n",
              "    }\n",
              "\n",
              "    .dataframe thead th {\n",
              "        text-align: right;\n",
              "    }\n",
              "</style>\n",
              "<table border=\"1\" class=\"dataframe\">\n",
              "  <thead>\n",
              "    <tr style=\"text-align: right;\">\n",
              "      <th></th>\n",
              "      <th>english_sentence</th>\n",
              "      <th>guj_sentence</th>\n",
              "    </tr>\n",
              "  </thead>\n",
              "  <tbody>\n",
              "    <tr>\n",
              "      <th>0</th>\n",
              "      <td>The Union Cabinet chaired by Prime Minister Shri Narendra Modi has approved the proposal for closure of Autonomous Bodies, namely, Rashtriya Arogya Nidhi (RAN) and Jansankhya Sthirata Kosh (JSK) and the functions are proposed to be vested in Department of Health &amp; Family Welfare (DoHFW).</td>\n",
              "      <td>પ્રધાનમંત્રી શ્રી નરેન્દ્ર મોદીની અધ્યક્ષતામાં મંત્રીમંડળે સ્વાસ્થ્ય અને પરિવાર કલ્યાણ વિભાગ અંતર્ગત સ્વાયત્ત સંસ્થાઓને તર્કસંગત બનાવવાની મંજૂરી આપી છે.</td>\n",
              "    </tr>\n",
              "    <tr>\n",
              "      <th>1</th>\n",
              "      <td>The rationalization of Autonomous Bodies under Department of Health &amp; Family Welfare will involve inter-ministerial consultations and review of existing bye laws of these bodies.</td>\n",
              "      <td>આ સંસ્થાઓમાં રાષ્ટ્રીય આરોગ્ય નિધિ (આરએએન) અને જનસંખ્યા સ્થિરતા કોષ (જેએસકે) સામેલ છે.</td>\n",
              "    </tr>\n",
              "    <tr>\n",
              "      <th>2</th>\n",
              "      <td>The time frame for implementation is one year,</td>\n",
              "      <td>તેનાં કામકાજને સ્વાસ્થ્ય અને પરિવાર કલ્યાણ વિભાગ અંતર્ગત રાખવાનો પ્રસ્તાવ પણ છે.</td>\n",
              "    </tr>\n",
              "    <tr>\n",
              "      <th>3</th>\n",
              "      <td>Rashtriya Arogya Nidhi (RAN) was set up as a registered society to provide financial medical assistance to poor patients receiving treatment in designated central government hospitals.</td>\n",
              "      <td>રાષ્ટ્રીય આરોગ્ય નિધિની રચના એક નોંધાયેલી સોસાયટી સ્વરૂપે કરવામાં આવી હતી, જેથી કેન્દ્રીય સરકારી હોસ્પિટલોમાં સારવાર કરાવતાં ગરીબ દર્દીઓને નાણાકીય ચિકિત્સા સહાયતા આપી શકાશે.</td>\n",
              "    </tr>\n",
              "    <tr>\n",
              "      <th>4</th>\n",
              "      <td>An advance is placed with the Medical Superintendents of such hospitals who then provide assistance on a case to case basis.</td>\n",
              "      <td>આ હોસ્પિટલનાં તબીબી નિરીક્ષકોને આગોતરૂ ભંડોળ આપવામાં આવશે, જે દરેક કેસને જોઈને સહાયતા પ્રદાન કરશે.</td>\n",
              "    </tr>\n",
              "  </tbody>\n",
              "</table>\n",
              "</div>\n",
              "      <button class=\"colab-df-convert\" onclick=\"convertToInteractive('df-26cc6b11-6733-4633-ab14-6e19a341181a')\"\n",
              "              title=\"Convert this dataframe to an interactive table.\"\n",
              "              style=\"display:none;\">\n",
              "        \n",
              "  <svg xmlns=\"http://www.w3.org/2000/svg\" height=\"24px\"viewBox=\"0 0 24 24\"\n",
              "       width=\"24px\">\n",
              "    <path d=\"M0 0h24v24H0V0z\" fill=\"none\"/>\n",
              "    <path d=\"M18.56 5.44l.94 2.06.94-2.06 2.06-.94-2.06-.94-.94-2.06-.94 2.06-2.06.94zm-11 1L8.5 8.5l.94-2.06 2.06-.94-2.06-.94L8.5 2.5l-.94 2.06-2.06.94zm10 10l.94 2.06.94-2.06 2.06-.94-2.06-.94-.94-2.06-.94 2.06-2.06.94z\"/><path d=\"M17.41 7.96l-1.37-1.37c-.4-.4-.92-.59-1.43-.59-.52 0-1.04.2-1.43.59L10.3 9.45l-7.72 7.72c-.78.78-.78 2.05 0 2.83L4 21.41c.39.39.9.59 1.41.59.51 0 1.02-.2 1.41-.59l7.78-7.78 2.81-2.81c.8-.78.8-2.07 0-2.86zM5.41 20L4 18.59l7.72-7.72 1.47 1.35L5.41 20z\"/>\n",
              "  </svg>\n",
              "      </button>\n",
              "      \n",
              "  <style>\n",
              "    .colab-df-container {\n",
              "      display:flex;\n",
              "      flex-wrap:wrap;\n",
              "      gap: 12px;\n",
              "    }\n",
              "\n",
              "    .colab-df-convert {\n",
              "      background-color: #E8F0FE;\n",
              "      border: none;\n",
              "      border-radius: 50%;\n",
              "      cursor: pointer;\n",
              "      display: none;\n",
              "      fill: #1967D2;\n",
              "      height: 32px;\n",
              "      padding: 0 0 0 0;\n",
              "      width: 32px;\n",
              "    }\n",
              "\n",
              "    .colab-df-convert:hover {\n",
              "      background-color: #E2EBFA;\n",
              "      box-shadow: 0px 1px 2px rgba(60, 64, 67, 0.3), 0px 1px 3px 1px rgba(60, 64, 67, 0.15);\n",
              "      fill: #174EA6;\n",
              "    }\n",
              "\n",
              "    [theme=dark] .colab-df-convert {\n",
              "      background-color: #3B4455;\n",
              "      fill: #D2E3FC;\n",
              "    }\n",
              "\n",
              "    [theme=dark] .colab-df-convert:hover {\n",
              "      background-color: #434B5C;\n",
              "      box-shadow: 0px 1px 3px 1px rgba(0, 0, 0, 0.15);\n",
              "      filter: drop-shadow(0px 1px 2px rgba(0, 0, 0, 0.3));\n",
              "      fill: #FFFFFF;\n",
              "    }\n",
              "  </style>\n",
              "\n",
              "      <script>\n",
              "        const buttonEl =\n",
              "          document.querySelector('#df-26cc6b11-6733-4633-ab14-6e19a341181a button.colab-df-convert');\n",
              "        buttonEl.style.display =\n",
              "          google.colab.kernel.accessAllowed ? 'block' : 'none';\n",
              "\n",
              "        async function convertToInteractive(key) {\n",
              "          const element = document.querySelector('#df-26cc6b11-6733-4633-ab14-6e19a341181a');\n",
              "          const dataTable =\n",
              "            await google.colab.kernel.invokeFunction('convertToInteractive',\n",
              "                                                     [key], {});\n",
              "          if (!dataTable) return;\n",
              "\n",
              "          const docLinkHtml = 'Like what you see? Visit the ' +\n",
              "            '<a target=\"_blank\" href=https://colab.research.google.com/notebooks/data_table.ipynb>data table notebook</a>'\n",
              "            + ' to learn more about interactive tables.';\n",
              "          element.innerHTML = '';\n",
              "          dataTable['output_type'] = 'display_data';\n",
              "          await google.colab.output.renderOutput(dataTable, element);\n",
              "          const docLink = document.createElement('div');\n",
              "          docLink.innerHTML = docLinkHtml;\n",
              "          element.appendChild(docLink);\n",
              "        }\n",
              "      </script>\n",
              "    </div>\n",
              "  </div>\n",
              "  "
            ]
          },
          "metadata": {},
          "execution_count": 3
        }
      ]
    },
    {
      "cell_type": "code",
      "source": [
        "# Lowercase all characters\n",
        "lines['english_sentence']=lines['english_sentence'].apply(lambda x: str(x))\n",
        "lines['guj_sentence']=lines['guj_sentence'].apply(lambda x: str(x))\n",
        "lines['english_sentence']=lines['english_sentence'].apply(lambda x: x.lower())\n",
        "lines['guj_sentence']=lines['guj_sentence'].apply(lambda x: x.lower())"
      ],
      "metadata": {
        "id": "J5mbVwQfxZX8"
      },
      "execution_count": null,
      "outputs": []
    },
    {
      "cell_type": "code",
      "source": [
        "# Remove quotes\n",
        "lines['english_sentence']=lines['english_sentence'].apply(lambda x: re.sub(\"'\", '', x))\n",
        "lines['guj_sentence']=lines['guj_sentence'].apply(lambda x: re.sub(\"'\", '', x))"
      ],
      "metadata": {
        "id": "pk90RJhmxctz"
      },
      "execution_count": null,
      "outputs": []
    },
    {
      "cell_type": "code",
      "source": [
        "exclude = set(string.punctuation) # Set of all special characters\n",
        "# Remove all the special characters\n",
        "lines['english_sentence']=lines['english_sentence'].apply(lambda x: ''.join(ch for ch in x if ch not in exclude))\n",
        "lines['guj_sentence']=lines['guj_sentence'].apply(lambda x: ''.join(ch for ch in x if ch not in exclude))"
      ],
      "metadata": {
        "id": "0SmzVlG0x5kV"
      },
      "execution_count": null,
      "outputs": []
    },
    {
      "cell_type": "code",
      "source": [
        "# Remove all numbers from text\n",
        "remove_digits = str.maketrans('', '', digits)\n",
        "lines['english_sentence']=lines['english_sentence'].apply(lambda x: x.translate(remove_digits))\n",
        "lines['guj_sentence']=lines['guj_sentence'].apply(lambda x: x.translate(remove_digits))\n",
        "lines['guj_sentence'] = lines['guj_sentence'].apply(lambda x: re.sub(\"[२३०८१५७९४६]\", \"\", x))\n",
        "\n",
        "# Remove extra spaces\n",
        "lines['english_sentence']=lines['english_sentence'].apply(lambda x: x.strip())\n",
        "lines['guj_sentence']=lines['guj_sentence'].apply(lambda x: x.strip())\n",
        "lines['english_sentence']=lines['english_sentence'].apply(lambda x: re.sub(\" +\", \" \", x))\n",
        "lines['guj_sentence']=lines['guj_sentence'].apply(lambda x: re.sub(\" +\", \" \", x))"
      ],
      "metadata": {
        "id": "eWZCfbZ0yIfA"
      },
      "execution_count": null,
      "outputs": []
    },
    {
      "cell_type": "code",
      "source": [
        "lines.head()"
      ],
      "metadata": {
        "colab": {
          "base_uri": "https://localhost:8080/",
          "height": 406
        },
        "id": "HuW4mmTZylbS",
        "outputId": "712a4f8d-6d3e-4b46-c775-3365ccf78f61"
      },
      "execution_count": null,
      "outputs": [
        {
          "output_type": "execute_result",
          "data": {
            "text/plain": [
              "                                                                                                                                                                                                                                                                        english_sentence                                                                                                                                                                 guj_sentence\n",
              "0  the union cabinet chaired by prime minister shri narendra modi has approved the proposal for closure of autonomous bodies namely rashtriya arogya nidhi ran and jansankhya sthirata kosh jsk and the functions are proposed to be vested in department of health family welfare dohfw  પ્રધાનમંત્રી શ્રી નરેન્દ્ર મોદીની અધ્યક્ષતામાં મંત્રીમંડળે સ્વાસ્થ્ય અને પરિવાર કલ્યાણ વિભાગ અંતર્ગત સ્વાયત્ત સંસ્થાઓને તર્કસંગત બનાવવાની મંજૂરી આપી છે                    \n",
              "1  the rationalization of autonomous bodies under department of health family welfare will involve interministerial consultations and review of existing bye laws of these bodies                                                                                                         આ સંસ્થાઓમાં રાષ્ટ્રીય આરોગ્ય નિધિ આરએએન અને જનસંખ્યા સ્થિરતા કોષ જેએસકે સામેલ છે                                                                                          \n",
              "2  the time frame for implementation is one year                                                                                                                                                                                                                                          તેનાં કામકાજને સ્વાસ્થ્ય અને પરિવાર કલ્યાણ વિભાગ અંતર્ગત રાખવાનો પ્રસ્તાવ પણ છે                                                                                            \n",
              "3  rashtriya arogya nidhi ran was set up as a registered society to provide financial medical assistance to poor patients receiving treatment in designated central government hospitals                                                                                                  રાષ્ટ્રીય આરોગ્ય નિધિની રચના એક નોંધાયેલી સોસાયટી સ્વરૂપે કરવામાં આવી હતી જેથી કેન્દ્રીય સરકારી હોસ્પિટલોમાં સારવાર કરાવતાં ગરીબ દર્દીઓને નાણાકીય ચિકિત્સા સહાયતા આપી શકાશે\n",
              "4  an advance is placed with the medical superintendents of such hospitals who then provide assistance on a case to case basis                                                                                                                                                            આ હોસ્પિટલનાં તબીબી નિરીક્ષકોને આગોતરૂ ભંડોળ આપવામાં આવશે જે દરેક કેસને જોઈને સહાયતા પ્રદાન કરશે                                                                           "
            ],
            "text/html": [
              "\n",
              "  <div id=\"df-f2034cb7-0eee-4cbc-aa58-7eab2a44e12c\">\n",
              "    <div class=\"colab-df-container\">\n",
              "      <div>\n",
              "<style scoped>\n",
              "    .dataframe tbody tr th:only-of-type {\n",
              "        vertical-align: middle;\n",
              "    }\n",
              "\n",
              "    .dataframe tbody tr th {\n",
              "        vertical-align: top;\n",
              "    }\n",
              "\n",
              "    .dataframe thead th {\n",
              "        text-align: right;\n",
              "    }\n",
              "</style>\n",
              "<table border=\"1\" class=\"dataframe\">\n",
              "  <thead>\n",
              "    <tr style=\"text-align: right;\">\n",
              "      <th></th>\n",
              "      <th>english_sentence</th>\n",
              "      <th>guj_sentence</th>\n",
              "    </tr>\n",
              "  </thead>\n",
              "  <tbody>\n",
              "    <tr>\n",
              "      <th>0</th>\n",
              "      <td>the union cabinet chaired by prime minister shri narendra modi has approved the proposal for closure of autonomous bodies namely rashtriya arogya nidhi ran and jansankhya sthirata kosh jsk and the functions are proposed to be vested in department of health family welfare dohfw</td>\n",
              "      <td>પ્રધાનમંત્રી શ્રી નરેન્દ્ર મોદીની અધ્યક્ષતામાં મંત્રીમંડળે સ્વાસ્થ્ય અને પરિવાર કલ્યાણ વિભાગ અંતર્ગત સ્વાયત્ત સંસ્થાઓને તર્કસંગત બનાવવાની મંજૂરી આપી છે</td>\n",
              "    </tr>\n",
              "    <tr>\n",
              "      <th>1</th>\n",
              "      <td>the rationalization of autonomous bodies under department of health family welfare will involve interministerial consultations and review of existing bye laws of these bodies</td>\n",
              "      <td>આ સંસ્થાઓમાં રાષ્ટ્રીય આરોગ્ય નિધિ આરએએન અને જનસંખ્યા સ્થિરતા કોષ જેએસકે સામેલ છે</td>\n",
              "    </tr>\n",
              "    <tr>\n",
              "      <th>2</th>\n",
              "      <td>the time frame for implementation is one year</td>\n",
              "      <td>તેનાં કામકાજને સ્વાસ્થ્ય અને પરિવાર કલ્યાણ વિભાગ અંતર્ગત રાખવાનો પ્રસ્તાવ પણ છે</td>\n",
              "    </tr>\n",
              "    <tr>\n",
              "      <th>3</th>\n",
              "      <td>rashtriya arogya nidhi ran was set up as a registered society to provide financial medical assistance to poor patients receiving treatment in designated central government hospitals</td>\n",
              "      <td>રાષ્ટ્રીય આરોગ્ય નિધિની રચના એક નોંધાયેલી સોસાયટી સ્વરૂપે કરવામાં આવી હતી જેથી કેન્દ્રીય સરકારી હોસ્પિટલોમાં સારવાર કરાવતાં ગરીબ દર્દીઓને નાણાકીય ચિકિત્સા સહાયતા આપી શકાશે</td>\n",
              "    </tr>\n",
              "    <tr>\n",
              "      <th>4</th>\n",
              "      <td>an advance is placed with the medical superintendents of such hospitals who then provide assistance on a case to case basis</td>\n",
              "      <td>આ હોસ્પિટલનાં તબીબી નિરીક્ષકોને આગોતરૂ ભંડોળ આપવામાં આવશે જે દરેક કેસને જોઈને સહાયતા પ્રદાન કરશે</td>\n",
              "    </tr>\n",
              "  </tbody>\n",
              "</table>\n",
              "</div>\n",
              "      <button class=\"colab-df-convert\" onclick=\"convertToInteractive('df-f2034cb7-0eee-4cbc-aa58-7eab2a44e12c')\"\n",
              "              title=\"Convert this dataframe to an interactive table.\"\n",
              "              style=\"display:none;\">\n",
              "        \n",
              "  <svg xmlns=\"http://www.w3.org/2000/svg\" height=\"24px\"viewBox=\"0 0 24 24\"\n",
              "       width=\"24px\">\n",
              "    <path d=\"M0 0h24v24H0V0z\" fill=\"none\"/>\n",
              "    <path d=\"M18.56 5.44l.94 2.06.94-2.06 2.06-.94-2.06-.94-.94-2.06-.94 2.06-2.06.94zm-11 1L8.5 8.5l.94-2.06 2.06-.94-2.06-.94L8.5 2.5l-.94 2.06-2.06.94zm10 10l.94 2.06.94-2.06 2.06-.94-2.06-.94-.94-2.06-.94 2.06-2.06.94z\"/><path d=\"M17.41 7.96l-1.37-1.37c-.4-.4-.92-.59-1.43-.59-.52 0-1.04.2-1.43.59L10.3 9.45l-7.72 7.72c-.78.78-.78 2.05 0 2.83L4 21.41c.39.39.9.59 1.41.59.51 0 1.02-.2 1.41-.59l7.78-7.78 2.81-2.81c.8-.78.8-2.07 0-2.86zM5.41 20L4 18.59l7.72-7.72 1.47 1.35L5.41 20z\"/>\n",
              "  </svg>\n",
              "      </button>\n",
              "      \n",
              "  <style>\n",
              "    .colab-df-container {\n",
              "      display:flex;\n",
              "      flex-wrap:wrap;\n",
              "      gap: 12px;\n",
              "    }\n",
              "\n",
              "    .colab-df-convert {\n",
              "      background-color: #E8F0FE;\n",
              "      border: none;\n",
              "      border-radius: 50%;\n",
              "      cursor: pointer;\n",
              "      display: none;\n",
              "      fill: #1967D2;\n",
              "      height: 32px;\n",
              "      padding: 0 0 0 0;\n",
              "      width: 32px;\n",
              "    }\n",
              "\n",
              "    .colab-df-convert:hover {\n",
              "      background-color: #E2EBFA;\n",
              "      box-shadow: 0px 1px 2px rgba(60, 64, 67, 0.3), 0px 1px 3px 1px rgba(60, 64, 67, 0.15);\n",
              "      fill: #174EA6;\n",
              "    }\n",
              "\n",
              "    [theme=dark] .colab-df-convert {\n",
              "      background-color: #3B4455;\n",
              "      fill: #D2E3FC;\n",
              "    }\n",
              "\n",
              "    [theme=dark] .colab-df-convert:hover {\n",
              "      background-color: #434B5C;\n",
              "      box-shadow: 0px 1px 3px 1px rgba(0, 0, 0, 0.15);\n",
              "      filter: drop-shadow(0px 1px 2px rgba(0, 0, 0, 0.3));\n",
              "      fill: #FFFFFF;\n",
              "    }\n",
              "  </style>\n",
              "\n",
              "      <script>\n",
              "        const buttonEl =\n",
              "          document.querySelector('#df-f2034cb7-0eee-4cbc-aa58-7eab2a44e12c button.colab-df-convert');\n",
              "        buttonEl.style.display =\n",
              "          google.colab.kernel.accessAllowed ? 'block' : 'none';\n",
              "\n",
              "        async function convertToInteractive(key) {\n",
              "          const element = document.querySelector('#df-f2034cb7-0eee-4cbc-aa58-7eab2a44e12c');\n",
              "          const dataTable =\n",
              "            await google.colab.kernel.invokeFunction('convertToInteractive',\n",
              "                                                     [key], {});\n",
              "          if (!dataTable) return;\n",
              "\n",
              "          const docLinkHtml = 'Like what you see? Visit the ' +\n",
              "            '<a target=\"_blank\" href=https://colab.research.google.com/notebooks/data_table.ipynb>data table notebook</a>'\n",
              "            + ' to learn more about interactive tables.';\n",
              "          element.innerHTML = '';\n",
              "          dataTable['output_type'] = 'display_data';\n",
              "          await google.colab.output.renderOutput(dataTable, element);\n",
              "          const docLink = document.createElement('div');\n",
              "          docLink.innerHTML = docLinkHtml;\n",
              "          element.appendChild(docLink);\n",
              "        }\n",
              "      </script>\n",
              "    </div>\n",
              "  </div>\n",
              "  "
            ]
          },
          "metadata": {},
          "execution_count": 8
        }
      ]
    },
    {
      "cell_type": "code",
      "source": [
        "import pandas as pd\n",
        "import numpy as np\n",
        "import tensorflow as tf\n",
        "from tensorflow.keras.preprocessing.text import Tokenizer\n",
        "from tensorflow.keras.preprocessing.sequence import pad_sequences\n",
        "from tensorflow.keras.layers import Input, LSTM, Embedding, Dense, Bidirectional\n",
        "from tensorflow.keras.models import Model\n",
        "from tensorflow.keras.callbacks import EarlyStopping\n",
        "\n",
        "# Load the dataset from the TSV file\n",
        "dataset = pd.read_csv('/content/drive/MyDrive/Sem_8-G21/Datasets/gu-en.tsv',sep='\\t',header=None)\n",
        "dataset.columns = ['english', 'gujarati']\n",
        "\n",
        "# Set the maximum length of the input and output sequences\n",
        "max_input_length = 100\n",
        "max_output_length = 100\n",
        "\n",
        "# Tokenize the input and output sequences\n",
        "input_tokenizer = Tokenizer()\n",
        "input_tokenizer.fit_on_texts(dataset['english'])\n",
        "input_vocab_size = len(input_tokenizer.word_index) + 1\n",
        "input_sequence = input_tokenizer.texts_to_sequences(dataset['english'])\n",
        "input_sequence = pad_sequences(input_sequence, maxlen=max_input_length, padding='post')\n",
        "\n",
        "output_tokenizer = Tokenizer()\n",
        "output_tokenizer.fit_on_texts(dataset['gujarati'])\n",
        "output_vocab_size = len(output_tokenizer.word_index) + 1\n",
        "output_sequence = output_tokenizer.texts_to_sequences(dataset['gujarati'])\n",
        "output_sequence = pad_sequences(output_sequence, maxlen=max_output_length, padding='post')\n",
        "\n",
        "# Define the model architecture\n",
        "inputs = Input(shape=(max_input_length,))\n",
        "embedding = Embedding(input_vocab_size, 256, input_length=max_input_length)(inputs)\n",
        "lstm = Bidirectional(LSTM(256, return_sequences=True))(embedding)\n",
        "outputs = Dense(output_vocab_size, activation='softmax')(lstm)\n",
        "\n",
        "model = Model(inputs=inputs, outputs=outputs)\n",
        "\n",
        "# Compile the model\n",
        "model.compile(optimizer='adam', loss='sparse_categorical_crossentropy')\n",
        "\n",
        "# Train the model\n",
        "early_stopping = EarlyStopping(monitor='val_loss', patience=10, verbose=1, mode='min')\n",
        "model.fit(input_sequence, output_sequence.reshape(output_sequence.shape[0], output_sequence.shape[1], 1),\n",
        "          epochs=5, batch_size=64, validation_split=0.2, callbacks=[early_stopping])\n",
        "\n",
        "# Define a function to translate a sentence from English to Gujarati\n",
        "def translate_sentence(model, sentence):\n",
        "    # Tokenize the input sentence\n",
        "    sequence = input_tokenizer.texts_to_sequences([sentence])\n",
        "    sequence = pad_sequences(sequence, maxlen=max_input_length, padding='post')\n",
        "    \n",
        "    # Generate the output sequence\n",
        "    output_sequence = model.predict(sequence)\n",
        "    output_sequence = np.argmax(output_sequence, axis=-1)\n",
        "    \n",
        "    # Convert the output sequence back to text\n",
        "    text = ''\n",
        "    for i in output_sequence[0]:\n",
        "        if i == 0:\n",
        "            break\n",
        "        word = output_tokenizer.index_word[i]\n",
        "        if word is None:\n",
        "            break\n",
        "        text += ' ' + word\n",
        "    \n",
        "    return text.strip()\n"
      ],
      "metadata": {
        "colab": {
          "base_uri": "https://localhost:8080/"
        },
        "id": "gkcsPXFupa4A",
        "outputId": "be77f3f9-1ffb-4eab-9b2e-ae8a0c3251aa"
      },
      "execution_count": null,
      "outputs": [
        {
          "output_type": "stream",
          "name": "stdout",
          "text": [
            "Epoch 1/5\n",
            "112/624 [====>.........................] - ETA: 5:16:27 - loss: 2.6290"
          ]
        }
      ]
    },
    {
      "cell_type": "code",
      "source": [
        "input_sentence = \"This is 2023\"\n",
        "translation = translate_sentence(model,input_sentence)\n",
        "print(translation)"
      ],
      "metadata": {
        "colab": {
          "base_uri": "https://localhost:8080/"
        },
        "id": "lmAsQj2lrbj2",
        "outputId": "803a89a1-3e18-4ad7-8ba8-3a41d9d7afb1"
      },
      "execution_count": null,
      "outputs": [
        {
          "output_type": "stream",
          "name": "stdout",
          "text": [
            "1/1 [==============================] - 0s 31ms/step\n",
            "આ આ છે\n"
          ]
        }
      ]
    }
  ]
}